{
  "nbformat": 4,
  "nbformat_minor": 0,
  "metadata": {
    "colab": {
      "provenance": [],
      "authorship_tag": "ABX9TyMI97/QcioHahao52InrtBb",
      "include_colab_link": true
    },
    "kernelspec": {
      "name": "python3",
      "display_name": "Python 3"
    },
    "language_info": {
      "name": "python"
    }
  },
  "cells": [
    {
      "cell_type": "markdown",
      "metadata": {
        "id": "view-in-github",
        "colab_type": "text"
      },
      "source": [
        "<a href=\"https://colab.research.google.com/github/whyranox3/Hacksa/blob/master/minist_0325.ipynb\" target=\"_parent\"><img src=\"https://colab.research.google.com/assets/colab-badge.svg\" alt=\"Open In Colab\"/></a>"
      ]
    },
    {
      "cell_type": "code",
      "execution_count": 1,
      "metadata": {
        "colab": {
          "base_uri": "https://localhost:8080/"
        },
        "id": "HcDPkKCx5yT_",
        "outputId": "c1f06a78-ca84-49cb-95c2-8bd7f844f9d1"
      },
      "outputs": [
        {
          "output_type": "stream",
          "name": "stdout",
          "text": [
            "--2025-03-25 10:41:28--  https://raw.githubusercontent.com/jskimn/aiservice_lesson/main/NNBasic/005_minist/dataset/mnist.py\n",
            "Resolving raw.githubusercontent.com (raw.githubusercontent.com)... 185.199.109.133, 185.199.110.133, 185.199.108.133, ...\n",
            "Connecting to raw.githubusercontent.com (raw.githubusercontent.com)|185.199.109.133|:443... connected.\n",
            "HTTP request sent, awaiting response... 200 OK\n",
            "Length: 3655 (3.6K) [text/plain]\n",
            "Saving to: ‘dataset/mnist.py’\n",
            "\n",
            "mnist.py            100%[===================>]   3.57K  --.-KB/s    in 0s      \n",
            "\n",
            "2025-03-25 10:41:28 (42.2 MB/s) - ‘dataset/mnist.py’ saved [3655/3655]\n",
            "\n",
            "--2025-03-25 10:41:28--  https://raw.githubusercontent.com/jskimn/aiservice_lesson/main/NNBasic/005_minist/dataset/train-images-idx3-ubyte.gz\n",
            "Resolving raw.githubusercontent.com (raw.githubusercontent.com)... 185.199.108.133, 185.199.109.133, 185.199.110.133, ...\n",
            "Connecting to raw.githubusercontent.com (raw.githubusercontent.com)|185.199.108.133|:443... connected.\n",
            "HTTP request sent, awaiting response... 200 OK\n",
            "Length: 9912422 (9.5M) [application/octet-stream]\n",
            "Saving to: ‘dataset/train-images-idx3-ubyte.gz’\n",
            "\n",
            "train-images-idx3-u 100%[===================>]   9.45M  21.8MB/s    in 0.4s    \n",
            "\n",
            "2025-03-25 10:41:29 (21.8 MB/s) - ‘dataset/train-images-idx3-ubyte.gz’ saved [9912422/9912422]\n",
            "\n",
            "--2025-03-25 10:41:29--  https://raw.githubusercontent.com/jskimn/aiservice_lesson/main/NNBasic/005_minist/dataset/train-labels-idx1-ubyte.gz\n",
            "Resolving raw.githubusercontent.com (raw.githubusercontent.com)... 185.199.109.133, 185.199.110.133, 185.199.108.133, ...\n",
            "Connecting to raw.githubusercontent.com (raw.githubusercontent.com)|185.199.109.133|:443... connected.\n",
            "HTTP request sent, awaiting response... 200 OK\n",
            "Length: 28881 (28K) [application/octet-stream]\n",
            "Saving to: ‘dataset/train-labels-idx1-ubyte.gz’\n",
            "\n",
            "train-labels-idx1-u 100%[===================>]  28.20K  --.-KB/s    in 0.01s   \n",
            "\n",
            "2025-03-25 10:41:30 (2.34 MB/s) - ‘dataset/train-labels-idx1-ubyte.gz’ saved [28881/28881]\n",
            "\n",
            "--2025-03-25 10:41:30--  https://raw.githubusercontent.com/jskimn/aiservice_lesson/main/NNBasic/005_minist/dataset/t10k-images-idx3-ubyte.gz\n",
            "Resolving raw.githubusercontent.com (raw.githubusercontent.com)... 185.199.108.133, 185.199.109.133, 185.199.110.133, ...\n",
            "Connecting to raw.githubusercontent.com (raw.githubusercontent.com)|185.199.108.133|:443... connected.\n",
            "HTTP request sent, awaiting response... 200 OK\n",
            "Length: 1648877 (1.6M) [application/octet-stream]\n",
            "Saving to: ‘dataset/t10k-images-idx3-ubyte.gz’\n",
            "\n",
            "t10k-images-idx3-ub 100%[===================>]   1.57M  5.53MB/s    in 0.3s    \n",
            "\n",
            "2025-03-25 10:41:30 (5.53 MB/s) - ‘dataset/t10k-images-idx3-ubyte.gz’ saved [1648877/1648877]\n",
            "\n",
            "--2025-03-25 10:41:30--  https://raw.githubusercontent.com/jskimn/aiservice_lesson/main/NNBasic/005_minist/dataset/t10k-labels-idx1-ubyte.gz\n",
            "Resolving raw.githubusercontent.com (raw.githubusercontent.com)... 185.199.111.133, 185.199.110.133, 185.199.109.133, ...\n",
            "Connecting to raw.githubusercontent.com (raw.githubusercontent.com)|185.199.111.133|:443... connected.\n",
            "HTTP request sent, awaiting response... 200 OK\n",
            "Length: 4542 (4.4K) [application/octet-stream]\n",
            "Saving to: ‘dataset/t10k-labels-idx1-ubyte.gz’\n",
            "\n",
            "t10k-labels-idx1-ub 100%[===================>]   4.44K  --.-KB/s    in 0s      \n",
            "\n",
            "2025-03-25 10:41:31 (44.1 MB/s) - ‘dataset/t10k-labels-idx1-ubyte.gz’ saved [4542/4542]\n",
            "\n",
            "--2025-03-25 10:41:31--  https://raw.githubusercontent.com/jskimn/aiservice_lesson/main/NNBasic/005_minist/dataset/sample_weight.pkl\n",
            "Resolving raw.githubusercontent.com (raw.githubusercontent.com)... 185.199.108.133, 185.199.109.133, 185.199.110.133, ...\n",
            "Connecting to raw.githubusercontent.com (raw.githubusercontent.com)|185.199.108.133|:443... connected.\n",
            "HTTP request sent, awaiting response... 200 OK\n",
            "Length: 181853 (178K) [application/octet-stream]\n",
            "Saving to: ‘dataset/sample_weight.pkl’\n",
            "\n",
            "sample_weight.pkl   100%[===================>] 177.59K  --.-KB/s    in 0.1s    \n",
            "\n",
            "2025-03-25 10:41:32 (1.19 MB/s) - ‘dataset/sample_weight.pkl’ saved [181853/181853]\n",
            "\n",
            "/content/dataset/mnist.py\n",
            "mnist.py\t   t10k-images-idx3-ubyte.gz  train-images-idx3-ubyte.gz\n",
            "sample_weight.pkl  t10k-labels-idx1-ubyte.gz  train-labels-idx1-ubyte.gz\n"
          ]
        }
      ],
      "source": [
        "import sys, os\n",
        "if not os.path.exists(\"dataset/mnist.py\"):\n",
        "  !wget -P dataset https://raw.githubusercontent.com/jskimn/aiservice_lesson/main/NNBasic/005_minist/dataset/mnist.py\n",
        "\n",
        "if not os.path.exists(\"dataset/train-images-idx3-ubyte.gz\"):\n",
        "  !wget -P dataset https://raw.githubusercontent.com/jskimn/aiservice_lesson/main/NNBasic/005_minist/dataset/train-images-idx3-ubyte.gz\n",
        "\n",
        "if not os.path.exists(\"dataset/train-labels-idx1-ubyte.gz\"):\n",
        "  !wget -P dataset https://raw.githubusercontent.com/jskimn/aiservice_lesson/main/NNBasic/005_minist/dataset/train-labels-idx1-ubyte.gz\n",
        "\n",
        "if not os.path.exists(\"dataset/t10k-images-idx3-ubyte.gz\"):\n",
        "  !wget -P dataset https://raw.githubusercontent.com/jskimn/aiservice_lesson/main/NNBasic/005_minist/dataset/t10k-images-idx3-ubyte.gz\n",
        "\n",
        "if not os.path.exists(\"dataset/t10k-labels-idx1-ubyte.gz\"):\n",
        "  !wget -P dataset https://raw.githubusercontent.com/jskimn/aiservice_lesson/main/NNBasic/005_minist/dataset/t10k-labels-idx1-ubyte.gz\n",
        "\n",
        "#sample weight 추가\n",
        "if not os.path.exists(\"dataset/sample_weight.pkl\"):\n",
        "  !wget -P dataset https://raw.githubusercontent.com/jskimn/aiservice_lesson/main/NNBasic/005_minist/dataset/sample_weight.pkl\n",
        "\n",
        "#확인\n",
        "!realpath dataset/mnist.py\n",
        "!ls dataset"
      ]
    },
    {
      "cell_type": "code",
      "source": [
        "#sys.path.append(os.pardir)\n",
        "from dataset.mnist import load_mnist\n",
        "\n",
        "(x_train, t_train), (x_test, t_test) = load_mnist(flatten=True, normalize=False)\n",
        "\n",
        "# 각 데이터 shape 출력\n",
        "print(x_train.shape)\n",
        "print(t_train.shape)\n",
        "print(x_test.shape)\n",
        "print(t_test.shape)"
      ],
      "metadata": {
        "colab": {
          "base_uri": "https://localhost:8080/"
        },
        "id": "XQH6GxJd7O1b",
        "outputId": "bac1d467-425a-48cf-b5b0-1dc2cc1dfa3b"
      },
      "execution_count": 3,
      "outputs": [
        {
          "output_type": "stream",
          "name": "stdout",
          "text": [
            "(60000, 784)\n",
            "(60000,)\n",
            "(10000, 784)\n",
            "(10000,)\n"
          ]
        }
      ]
    },
    {
      "cell_type": "code",
      "source": [
        "%matplotlib inline\n",
        "from PIL import Image\n",
        "import numpy as np\n",
        "import matplotlib.pyplot as plt\n",
        "\n",
        "def img_show(img):\n",
        "    pil_img = Image.fromarray(np.uint8(img))\n",
        "    #pil_img.show()\n",
        "    plt.imshow(np.array(pil_img))\n",
        "\n",
        "img = x_train[0]\n",
        "print(img.shape)\n",
        "label = t_train[0]\n",
        "img = img.reshape(28, 28)\n",
        "img_show(img)\n",
        "\n",
        "print(label)"
      ],
      "metadata": {
        "colab": {
          "base_uri": "https://localhost:8080/",
          "height": 467
        },
        "id": "zySjwAE17SaU",
        "outputId": "b83809dc-c227-44f5-94ef-1f953532fb05"
      },
      "execution_count": 4,
      "outputs": [
        {
          "output_type": "stream",
          "name": "stdout",
          "text": [
            "(784,)\n",
            "5\n"
          ]
        },
        {
          "output_type": "display_data",
          "data": {
            "text/plain": [
              "<Figure size 640x480 with 1 Axes>"
            ],
            "image/png": "[encoded data removed]"
          },
          "metadata": {}
        }
      ]
    }
  ]
}