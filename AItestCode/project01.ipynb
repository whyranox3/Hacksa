{
  "nbformat": 4,
  "nbformat_minor": 0,
  "metadata": {
    "colab": {
      "provenance": [],
      "include_colab_link": true
    },
    "kernelspec": {
      "name": "python3",
      "display_name": "Python 3"
    },
    "language_info": {
      "name": "python"
    }
  },
  "cells": [
    {
      "cell_type": "markdown",
      "metadata": {
        "id": "view-in-github",
        "colab_type": "text"
      },
      "source": [
        "<a href=\"https://colab.research.google.com/github/whyranox3/Hacksa/blob/master/AItestCode/project01.ipynb\" target=\"_parent\"><img src=\"https://colab.research.google.com/assets/colab-badge.svg\" alt=\"Open In Colab\"/></a>"
      ]
    },
    {
      "cell_type": "code",
      "execution_count": null,
      "metadata": {
        "id": "EnaZb4sqFkQ8"
      },
      "outputs": [],
      "source": [
        "class MulLayer:\n",
        "  def __init__(self):\n",
        "    self.x=None\n",
        "    self.y=None\n",
        "  def forward(self,x,y):\n",
        "    self.x=x\n",
        "    self.y=y\n",
        "    out=x*y\n",
        "    return out\n",
        "  def backward(self,dout):\n",
        "    dx=dout*self.y\n",
        "    dy=dout*self.x\n",
        "    return dx,dy"
      ]
    },
    {
      "cell_type": "code",
      "source": [
        "# 변수 설정\n",
        "apple = 100\n",
        "apple_num = 2\n",
        "orange = 250\n",
        "orange_num = 4\n",
        "tax = 1.0\n",
        "\n",
        "# 계층 생성\n",
        "mul_apple_layer = MulLayer()\n",
        "mul_orange_layer = MulLayer()\n",
        "add_layer = MulLayer()\n",
        "mul_tax_layer = MulLayer()"
      ],
      "metadata": {
        "id": "zVT_lPvhFtgp"
      },
      "execution_count": null,
      "outputs": []
    },
    {
      "cell_type": "code",
      "source": [
        "# 순전파\n",
        "apple_price = mul_apple_layer.forward(apple, apple_num)\n",
        "orange_price = mul_orange_layer.forward(orange, orange_num)\n",
        "\n",
        "total_price = apple_price + orange_price\n",
        "\n",
        "final_price = mul_tax_layer.forward(total_price, tax)\n",
        "\n",
        "print(final_price)"
      ],
      "metadata": {
        "colab": {
          "base_uri": "https://localhost:8080/"
        },
        "id": "BP5NgYMnFwA7",
        "outputId": "ac9b554a-bdbf-44ec-861a-52a9c7ee8d42"
      },
      "execution_count": null,
      "outputs": [
        {
          "output_type": "stream",
          "name": "stdout",
          "text": [
            "1100.0\n"
          ]
        }
      ]
    },
    {
      "cell_type": "code",
      "source": [
        "# 역전파\n",
        "dprice = 1\n",
        "dtotal_price, dtax = mul_tax_layer.backward(dprice)\n",
        "dapple_price, dorange_price = dtotal_price, dtotal_price  # 합산에서 각각 기울기 전달\n",
        "\n",
        "# 사과와 귤 각각의 역전파\n",
        "dapple, dapple_num = mul_apple_layer.backward(dapple_price)\n",
        "dorange, dorange_num = mul_orange_layer.backward(dorange_price)\n",
        "\n",
        "print(dapple, dapple_num, dorange, dorange_num, dtax)  # 각 기울기 출력"
      ],
      "metadata": {
        "colab": {
          "base_uri": "https://localhost:8080/"
        },
        "id": "LTPHUk92Hx2x",
        "outputId": "42626444-cbab-4520-9871-e7edc6f60d51"
      },
      "execution_count": null,
      "outputs": [
        {
          "output_type": "stream",
          "name": "stdout",
          "text": [
            "2.2 110.00000000000001 4.4 220.00000000000003 1000\n"
          ]
        }
      ]
    }
  ]
}