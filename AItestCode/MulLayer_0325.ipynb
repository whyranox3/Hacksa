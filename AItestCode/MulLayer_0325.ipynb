{
  "nbformat": 4,
  "nbformat_minor": 0,
  "metadata": {
    "colab": {
      "provenance": [],
      "authorship_tag": "ABX9TyP3z2wZnyCMzY0Ujdb9Cfkb",
      "include_colab_link": true
    },
    "kernelspec": {
      "name": "python3",
      "display_name": "Python 3"
    },
    "language_info": {
      "name": "python"
    }
  },
  "cells": [
    {
      "cell_type": "markdown",
      "metadata": {
        "id": "view-in-github",
        "colab_type": "text"
      },
      "source": [
        "<a href=\"https://colab.research.google.com/github/whyranox3/Hacksa/blob/master/MulLayer_0325.ipynb\" target=\"_parent\"><img src=\"https://colab.research.google.com/assets/colab-badge.svg\" alt=\"Open In Colab\"/></a>"
      ]
    },
    {
      "cell_type": "code",
      "execution_count": 3,
      "metadata": {
        "id": "Z6DT1UlM0uNz"
      },
      "outputs": [],
      "source": [
        "class MulLayer:\n",
        "  def __int__(self):\n",
        "    self.x=None\n",
        "    self.y=None\n",
        "  def forward(self,x,y):\n",
        "    self.x=x\n",
        "    self.y=y\n",
        "    out=x*y\n",
        "    return out\n",
        "  def backward(self,dout):\n",
        "    dx=dout*self.y\n",
        "    dy=dout*self.x\n",
        "    return dx,dy"
      ]
    },
    {
      "cell_type": "code",
      "source": [
        "apple=100\n",
        "apple_num=2\n",
        "tax=1.1\n",
        "\n",
        "mul_apple_layer=MulLayer()\n",
        "mul_tax_layer=MulLayer()"
      ],
      "metadata": {
        "id": "qcVvm1Kp1hjk"
      },
      "execution_count": 4,
      "outputs": []
    },
    {
      "cell_type": "code",
      "source": [
        "# 순전파\n",
        "apple_price=mul_apple_layer.forward(apple,apple_num)\n",
        "price=mul_tax_layer.forward(apple_price,tax)\n",
        "print(price)"
      ],
      "metadata": {
        "colab": {
          "base_uri": "https://localhost:8080/"
        },
        "id": "7u0WjrcH1t58",
        "outputId": "772148c0-e1e1-4312-aa0c-449a0d5c79ed"
      },
      "execution_count": 5,
      "outputs": [
        {
          "output_type": "stream",
          "name": "stdout",
          "text": [
            "220.00000000000003\n"
          ]
        }
      ]
    },
    {
      "cell_type": "code",
      "source": [
        "# 역전파\n",
        "dprice=1\n",
        "dapple_price,dtax=mul_tax_layer.backward(dprice)\n",
        "dapple,dapple_num=mul_apple_layer.backward(dapple_price)\n",
        "print(dapple,dapple_num,dtax)"
      ],
      "metadata": {
        "colab": {
          "base_uri": "https://localhost:8080/"
        },
        "id": "sFdPb9Ut1w5F",
        "outputId": "77657493-9702-41cf-9902-c6f38a6fe4e4"
      },
      "execution_count": 6,
      "outputs": [
        {
          "output_type": "stream",
          "name": "stdout",
          "text": [
            "2.2 110.00000000000001 200\n"
          ]
        }
      ]
    }
  ]
}
