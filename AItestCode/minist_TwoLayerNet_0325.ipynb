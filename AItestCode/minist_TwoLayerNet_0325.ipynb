{
  "nbformat": 4,
  "nbformat_minor": 0,
  "metadata": {
    "colab": {
      "provenance": [],
      "authorship_tag": "ABX9TyP4AbN5n6Mvz+N2HNcsI/ok",
      "include_colab_link": true
    },
    "kernelspec": {
      "name": "python3",
      "display_name": "Python 3"
    },
    "language_info": {
      "name": "python"
    }
  },
  "cells": [
    {
      "cell_type": "markdown",
      "metadata": {
        "id": "view-in-github",
        "colab_type": "text"
      },
      "source": [
        "<a href=\"https://colab.research.google.com/github/whyranox3/Hacksa/blob/master/minist_TwoLayerNet_0325.ipynb\" target=\"_parent\"><img src=\"https://colab.research.google.com/assets/colab-badge.svg\" alt=\"Open In Colab\"/></a>"
      ]
    },
    {
      "cell_type": "code",
      "source": [
        "\n",
        "  import sys, os\n",
        "  if not os.path.exists(\"dataset/mnist.py\"):\n",
        "    !wget -P dataset https://raw.githubusercontent.com/jskimn/aiservice_lesson/main/NNBasic/005_minist/dataset/mnist.py\n",
        "\n",
        "  if not os.path.exists(\"dataset/train-images-idx3-ubyte.gz\"):\n",
        "    !wget -P dataset https://raw.githubusercontent.com/jskimn/aiservice_lesson/main/NNBasic/005_minist/dataset/train-images-idx3-ubyte.gz\n",
        "\n",
        "  if not os.path.exists(\"dataset/train-labels-idx1-ubyte.gz\"):\n",
        "    !wget -P dataset https://raw.githubusercontent.com/jskimn/aiservice_lesson/main/NNBasic/005_minist/dataset/train-labels-idx1-ubyte.gz\n",
        "\n",
        "  if not os.path.exists(\"dataset/t10k-images-idx3-ubyte.gz\"):\n",
        "    !wget -P dataset https://raw.githubusercontent.com/jskimn/aiservice_lesson/main/NNBasic/005_minist/dataset/t10k-images-idx3-ubyte.gz\n",
        "\n",
        "  if not os.path.exists(\"dataset/t10k-labels-idx1-ubyte.gz\"):\n",
        "    !wget -P dataset https://raw.githubusercontent.com/jskimn/aiservice_lesson/main/NNBasic/005_minist/dataset/t10k-labels-idx1-ubyte.gz\n",
        "\n",
        "  #common 파일 다운르도\n",
        "  if not os.path.exists(\"common/functions.py\"):\n",
        "    !wget -P common https://raw.githubusercontent.com/jskimn/aiservice_lesson/main/NNBasic/005_minist/common/functions.py\n",
        "\n",
        "  if not os.path.exists(\"common/gradient.py\"):\n",
        "    !wget -P common https://raw.githubusercontent.com/jskimn/aiservice_lesson/main/NNBasic/005_minist/common/gradient.py\n",
        "\n",
        "  #TwoLayerNet.py 다운로드\n",
        "  if not os.path.exists(\"TwoLayerNet.py\"):\n",
        "    !wget https://raw.githubusercontent.com/jskimn/aiservice_lesson/main/NNBasic/005_minist/TwoLayerNet.py\n",
        "\n",
        "\n",
        "  #확인\n",
        "  !realpath dataset/mnist.py\n",
        "  !ls dataset"
      ],
      "metadata": {
        "colab": {
          "base_uri": "https://localhost:8080/"
        },
        "id": "ZytuJjBtBmeS",
        "outputId": "9a30e1cc-07c7-4a43-e143-34e6419cedcf"
      },
      "execution_count": 6,
      "outputs": [
        {
          "output_type": "stream",
          "name": "stdout",
          "text": [
            "--2025-03-25 11:15:13--  https://raw.githubusercontent.com/jskimn/aiservice_lesson/main/NNBasic/005_minist/dataset/mnist.py\n",
            "Resolving raw.githubusercontent.com (raw.githubusercontent.com)... 185.199.110.133, 185.199.111.133, 185.199.108.133, ...\n",
            "Connecting to raw.githubusercontent.com (raw.githubusercontent.com)|185.199.110.133|:443... connected.\n",
            "HTTP request sent, awaiting response... 200 OK\n",
            "Length: 3655 (3.6K) [text/plain]\n",
            "Saving to: ‘dataset/mnist.py’\n",
            "\n",
            "\rmnist.py              0%[                    ]       0  --.-KB/s               \rmnist.py            100%[===================>]   3.57K  --.-KB/s    in 0s      \n",
            "\n",
            "2025-03-25 11:15:14 (36.4 MB/s) - ‘dataset/mnist.py’ saved [3655/3655]\n",
            "\n",
            "--2025-03-25 11:15:14--  https://raw.githubusercontent.com/jskimn/aiservice_lesson/main/NNBasic/005_minist/dataset/train-images-idx3-ubyte.gz\n",
            "Resolving raw.githubusercontent.com (raw.githubusercontent.com)... 185.199.108.133, 185.199.109.133, 185.199.111.133, ...\n",
            "Connecting to raw.githubusercontent.com (raw.githubusercontent.com)|185.199.108.133|:443... connected.\n",
            "HTTP request sent, awaiting response... 200 OK\n",
            "Length: 9912422 (9.5M) [application/octet-stream]\n",
            "Saving to: ‘dataset/train-images-idx3-ubyte.gz’\n",
            "\n",
            "train-images-idx3-u 100%[===================>]   9.45M  --.-KB/s    in 0.07s   \n",
            "\n",
            "2025-03-25 11:15:14 (129 MB/s) - ‘dataset/train-images-idx3-ubyte.gz’ saved [9912422/9912422]\n",
            "\n",
            "--2025-03-25 11:15:14--  https://raw.githubusercontent.com/jskimn/aiservice_lesson/main/NNBasic/005_minist/dataset/train-labels-idx1-ubyte.gz\n",
            "Resolving raw.githubusercontent.com (raw.githubusercontent.com)... 185.199.108.133, 185.199.109.133, 185.199.110.133, ...\n",
            "Connecting to raw.githubusercontent.com (raw.githubusercontent.com)|185.199.108.133|:443... connected.\n",
            "HTTP request sent, awaiting response... 200 OK\n",
            "Length: 28881 (28K) [application/octet-stream]\n",
            "Saving to: ‘dataset/train-labels-idx1-ubyte.gz’\n",
            "\n",
            "train-labels-idx1-u 100%[===================>]  28.20K  --.-KB/s    in 0.001s  \n",
            "\n",
            "2025-03-25 11:15:14 (29.8 MB/s) - ‘dataset/train-labels-idx1-ubyte.gz’ saved [28881/28881]\n",
            "\n",
            "--2025-03-25 11:15:14--  https://raw.githubusercontent.com/jskimn/aiservice_lesson/main/NNBasic/005_minist/dataset/t10k-images-idx3-ubyte.gz\n",
            "Resolving raw.githubusercontent.com (raw.githubusercontent.com)... 185.199.108.133, 185.199.109.133, 185.199.110.133, ...\n",
            "Connecting to raw.githubusercontent.com (raw.githubusercontent.com)|185.199.108.133|:443... connected.\n",
            "HTTP request sent, awaiting response... 200 OK\n",
            "Length: 1648877 (1.6M) [application/octet-stream]\n",
            "Saving to: ‘dataset/t10k-images-idx3-ubyte.gz’\n",
            "\n",
            "t10k-images-idx3-ub 100%[===================>]   1.57M  --.-KB/s    in 0.03s   \n",
            "\n",
            "2025-03-25 11:15:14 (59.6 MB/s) - ‘dataset/t10k-images-idx3-ubyte.gz’ saved [1648877/1648877]\n",
            "\n",
            "--2025-03-25 11:15:14--  https://raw.githubusercontent.com/jskimn/aiservice_lesson/main/NNBasic/005_minist/dataset/t10k-labels-idx1-ubyte.gz\n",
            "Resolving raw.githubusercontent.com (raw.githubusercontent.com)... 185.199.108.133, 185.199.109.133, 185.199.110.133, ...\n",
            "Connecting to raw.githubusercontent.com (raw.githubusercontent.com)|185.199.108.133|:443... connected.\n",
            "HTTP request sent, awaiting response... 200 OK\n",
            "Length: 4542 (4.4K) [application/octet-stream]\n",
            "Saving to: ‘dataset/t10k-labels-idx1-ubyte.gz’\n",
            "\n",
            "t10k-labels-idx1-ub 100%[===================>]   4.44K  --.-KB/s    in 0s      \n",
            "\n",
            "2025-03-25 11:15:14 (28.5 MB/s) - ‘dataset/t10k-labels-idx1-ubyte.gz’ saved [4542/4542]\n",
            "\n",
            "--2025-03-25 11:15:14--  https://raw.githubusercontent.com/jskimn/aiservice_lesson/main/NNBasic/005_minist/common/functions.py\n",
            "Resolving raw.githubusercontent.com (raw.githubusercontent.com)... 185.199.108.133, 185.199.109.133, 185.199.110.133, ...\n",
            "Connecting to raw.githubusercontent.com (raw.githubusercontent.com)|185.199.108.133|:443... connected.\n",
            "HTTP request sent, awaiting response... 200 OK\n",
            "Length: 1075 (1.0K) [text/plain]\n",
            "Saving to: ‘common/functions.py’\n",
            "\n",
            "functions.py        100%[===================>]   1.05K  --.-KB/s    in 0s      \n",
            "\n",
            "2025-03-25 11:15:14 (49.2 MB/s) - ‘common/functions.py’ saved [1075/1075]\n",
            "\n",
            "--2025-03-25 11:15:14--  https://raw.githubusercontent.com/jskimn/aiservice_lesson/main/NNBasic/005_minist/common/gradient.py\n",
            "Resolving raw.githubusercontent.com (raw.githubusercontent.com)... 185.199.111.133, 185.199.110.133, 185.199.108.133, ...\n",
            "Connecting to raw.githubusercontent.com (raw.githubusercontent.com)|185.199.111.133|:443... connected.\n",
            "HTTP request sent, awaiting response... 200 OK\n",
            "Length: 1204 (1.2K) [text/plain]\n",
            "Saving to: ‘common/gradient.py’\n",
            "\n",
            "gradient.py         100%[===================>]   1.18K  --.-KB/s    in 0s      \n",
            "\n",
            "2025-03-25 11:15:14 (78.0 MB/s) - ‘common/gradient.py’ saved [1204/1204]\n",
            "\n",
            "--2025-03-25 11:15:14--  https://raw.githubusercontent.com/jskimn/aiservice_lesson/main/NNBasic/005_minist/TwoLayerNet.py\n",
            "Resolving raw.githubusercontent.com (raw.githubusercontent.com)... 185.199.108.133, 185.199.109.133, 185.199.110.133, ...\n",
            "Connecting to raw.githubusercontent.com (raw.githubusercontent.com)|185.199.108.133|:443... connected.\n",
            "HTTP request sent, awaiting response... 200 OK\n",
            "Length: 2473 (2.4K) [text/plain]\n",
            "Saving to: ‘TwoLayerNet.py’\n",
            "\n",
            "TwoLayerNet.py      100%[===================>]   2.42K  --.-KB/s    in 0s      \n",
            "\n",
            "2025-03-25 11:15:14 (34.2 MB/s) - ‘TwoLayerNet.py’ saved [2473/2473]\n",
            "\n",
            "/content/dataset/mnist.py\n",
            "mnist.py\t\t   t10k-labels-idx1-ubyte.gz   train-labels-idx1-ubyte.gz\n",
            "t10k-images-idx3-ubyte.gz  train-images-idx3-ubyte.gz\n"
          ]
        }
      ]
    },
    {
      "cell_type": "code",
      "execution_count": 7,
      "metadata": {
        "id": "FsFe2CRjAXQi"
      },
      "outputs": [],
      "source": [
        "# MNIST TwoLayerNet 구현\n",
        "\n",
        "# TwoLayerNet 클래스 정의\n",
        "class TwoLayerNet:\n",
        "\n",
        "    def __init__(self, input_size, hidden_size, output_size, weight_init_std=0.01):\n",
        "        # 가중치 초기화\n",
        "        self.params = {}\n",
        "        self.params['W1'] = weight_init_std * np.random.randn(input_size, hidden_size)\n",
        "        self.params['b1'] = np.zeros(hidden_size)\n",
        "        self.params['W2'] = weight_init_std * np.random.randn(hidden_size, output_size)\n",
        "        self.params['b2'] = np.zeros(output_size)"
      ]
    },
    {
      "cell_type": "code",
      "source": [
        "    # 예측 함수 정의\n",
        "    def predict(self, x):\n",
        "        W1, W2 = self.params['W1'], self.params['W2']\n",
        "        b1, b2 = self.params['b1'], self.params['b2']\n",
        "\n",
        "        a1 = np.dot(x, W1) + b1\n",
        "        z1 = sigmoid(a1)\n",
        "        a2 = np.dot(z1, W2) + b2\n",
        "        y = softmax(a2)\n",
        "\n",
        "        return y"
      ],
      "metadata": {
        "id": "D6iVAxoRA398"
      },
      "execution_count": 8,
      "outputs": []
    },
    {
      "cell_type": "code",
      "source": [
        "    # Loss 함수\n",
        "    # x : 입력 데이터, t : 정답 레이블\n",
        "    def loss(self, x, t):\n",
        "        y = self.predict(x)\n",
        "\n",
        "        return cross_entropy_error(y, t)"
      ],
      "metadata": {
        "id": "XsTJQ0omA9FC"
      },
      "execution_count": 9,
      "outputs": []
    },
    {
      "cell_type": "code",
      "source": [
        "    # 정확도 측정 함수\n",
        "    def accuracy(self, x, t):\n",
        "        y = self.predict(x)\n",
        "        y = np.argmax(y, axis=1)\n",
        "        t = np.argmax(t, axis=1)\n",
        "\n",
        "        accuracy = np.sum(y == t) / float(x.shape[0])\n",
        "        return accuracy"
      ],
      "metadata": {
        "id": "ucxcVu1oBG2q"
      },
      "execution_count": 10,
      "outputs": []
    },
    {
      "cell_type": "code",
      "source": [
        "    # 가중치 매개변수의 기울기\n",
        "    # x : 입력 데이터, t : 정답 레이블\n",
        "    def numerical_gradient(self, x, t):\n",
        "        loss_W = lambda W: self.loss(x, t)\n",
        "\n",
        "        grads = {}\n",
        "        grads['W1'] = numerical_gradient(loss_W, self.params['W1'])\n",
        "        grads['b1'] = numerical_gradient(loss_W, self.params['b1'])\n",
        "        grads['W2'] = numerical_gradient(loss_W, self.params['W2'])\n",
        "        grads['b2'] = numerical_gradient(loss_W, self.params['b2'])\n",
        "\n",
        "        return grads"
      ],
      "metadata": {
        "id": "RR0UHYrFBMTR"
      },
      "execution_count": 11,
      "outputs": []
    },
    {
      "cell_type": "code",
      "source": [
        "# MNIST TwoLayerNet 학습\n",
        "\n",
        "# MNIST 데이터 읽기\n",
        "import numpy as np\n",
        "import matplotlib.pyplot as plt\n",
        "from dataset.mnist import load_mnist\n",
        "from TwoLayerNet import TwoLayerNet\n",
        "\n",
        "# 데이터 읽기\n",
        "(x_train, t_train), (x_test, t_test) = load_mnist(normalize=True, one_hot_label=True)"
      ],
      "metadata": {
        "colab": {
          "base_uri": "https://localhost:8080/"
        },
        "id": "HidqW0uIEbga",
        "outputId": "69bd795a-4968-4beb-87f7-105ba7125885"
      },
      "execution_count": 12,
      "outputs": [
        {
          "output_type": "stream",
          "name": "stdout",
          "text": [
            "Converting train-images-idx3-ubyte.gz to NumPy Array ...\n",
            "Done\n",
            "Converting train-labels-idx1-ubyte.gz to NumPy Array ...\n",
            "Done\n",
            "Converting t10k-images-idx3-ubyte.gz to NumPy Array ...\n",
            "Done\n",
            "Converting t10k-labels-idx1-ubyte.gz to NumPy Array ...\n",
            "Done\n",
            "Creating pickle file ...\n",
            "Done!\n"
          ]
        }
      ]
    },
    {
      "cell_type": "code",
      "source": [
        "# 하이퍼파라메터(학습 파라메터) 설정\n",
        "\n",
        "# 하이퍼파라미터\n",
        "iters_num = 10000  # 반복 횟수를 적절히 설정한다.\n",
        "train_size = x_train.shape[0]\n",
        "batch_size = 100   # 미니배치 크기\n",
        "learning_rate = 0.1\n",
        "\n",
        "#losss 및 정확도 변수\n",
        "train_loss_list = []\n",
        "train_acc_list = []\n",
        "test_acc_list = []\n",
        "\n",
        "# 1에폭당 반복 수\n",
        "iter_per_epoch = max(train_size / batch_size, 1)\n",
        "\n",
        "network = TwoLayerNet(input_size=784, hidden_size=50, output_size=10)"
      ],
      "metadata": {
        "id": "8myKaFhtEoLq"
      },
      "execution_count": 13,
      "outputs": []
    },
    {
      "cell_type": "code",
      "source": [
        "# 모델 생성 및 반복 학습\n",
        "\n",
        "for i in range(iters_num):\n",
        "    # 미니배치 획득\n",
        "    batch_mask = np.random.choice(train_size, batch_size)\n",
        "    x_batch = x_train[batch_mask]\n",
        "    t_batch = t_train[batch_mask]\n",
        "\n",
        "    # 기울기 계산\n",
        "    #grad = network.numerical_gradient(x_batch, t_batch)\n",
        "    grad = network.gradient(x_batch, t_batch)\n",
        "\n",
        "    # 매개변수 갱신\n",
        "    for key in ('W1', 'b1', 'W2', 'b2'):\n",
        "        network.params[key] -= learning_rate * grad[key]\n",
        "\n",
        "    # 학습 경과 기록\n",
        "    loss = network.loss(x_batch, t_batch)\n",
        "    train_loss_list.append(loss)\n",
        "\n",
        "    # 1에폭당 정확도 계산\n",
        "    if i % iter_per_epoch == 0:\n",
        "        train_acc = network.accuracy(x_train, t_train)\n",
        "        test_acc = network.accuracy(x_test, t_test)\n",
        "        train_acc_list.append(train_acc)\n",
        "        test_acc_list.append(test_acc)\n",
        "        print(\"train acc, test acc | \" + str(train_acc) + \", \" + str(test_acc))"
      ],
      "metadata": {
        "colab": {
          "base_uri": "https://localhost:8080/"
        },
        "id": "9eCbthPNEvXq",
        "outputId": "7aff83a7-64d7-4232-b5b1-186d75a0da55"
      },
      "execution_count": 14,
      "outputs": [
        {
          "output_type": "stream",
          "name": "stdout",
          "text": [
            "train acc, test acc | 0.09915, 0.1009\n",
            "train acc, test acc | 0.7877333333333333, 0.7903\n",
            "train acc, test acc | 0.8741666666666666, 0.8786\n",
            "train acc, test acc | 0.89905, 0.903\n",
            "train acc, test acc | 0.9088333333333334, 0.913\n",
            "train acc, test acc | 0.9146666666666666, 0.9175\n",
            "train acc, test acc | 0.91965, 0.9221\n",
            "train acc, test acc | 0.9236666666666666, 0.9256\n",
            "train acc, test acc | 0.9281166666666667, 0.93\n",
            "train acc, test acc | 0.9308666666666666, 0.9325\n",
            "train acc, test acc | 0.9340166666666667, 0.9339\n",
            "train acc, test acc | 0.9367833333333333, 0.9365\n",
            "train acc, test acc | 0.9392166666666667, 0.938\n",
            "train acc, test acc | 0.94205, 0.9398\n",
            "train acc, test acc | 0.9438333333333333, 0.9426\n",
            "train acc, test acc | 0.9457, 0.9435\n",
            "train acc, test acc | 0.9480166666666666, 0.9462\n"
          ]
        }
      ]
    },
    {
      "cell_type": "code",
      "source": [
        "# Loss 그래프 그리기\n",
        "x = np.arange(len(train_loss_list))\n",
        "plt.plot(x, train_loss_list)\n",
        "plt.xlabel(\"iteration\")\n",
        "plt.ylabel(\"loss\")\n",
        "plt.ylim(0, 9)\n",
        "plt.xlim(0, 10000)\n",
        "plt.show()"
      ],
      "metadata": {
        "colab": {
          "base_uri": "https://localhost:8080/",
          "height": 455
        },
        "id": "uAZVdFw6FEW6",
        "outputId": "5f4aa411-9840-4e21-bd94-1c5a0f3bedb0"
      },
      "execution_count": 15,
      "outputs": [
        {
          "output_type": "display_data",
          "data": {
            "text/plain": [
              "<Figure size 640x480 with 1 Axes>"
            ],
            "image/png": "[encoded data removed]"
          },
          "metadata": {}
        }
      ]
    },
    {
      "cell_type": "code",
      "source": [
        "# 정확도 그래프 그리기\n",
        "x = np.arange(len(train_acc_list))\n",
        "plt.plot(x, train_acc_list, label='train acc')\n",
        "plt.plot(x, test_acc_list, label='test acc', linestyle='--')\n",
        "plt.xlabel(\"epochs\")\n",
        "plt.ylabel(\"accuracy\")\n",
        "plt.ylim(0, 1.0)\n",
        "plt.xlim(0, 16)\n",
        "plt.legend(loc='lower right')\n",
        "plt.show()"
      ],
      "metadata": {
        "colab": {
          "base_uri": "https://localhost:8080/",
          "height": 455
        },
        "id": "FyfH4fOiFJZZ",
        "outputId": "9e2394c6-78bb-4527-f76a-a8be90b39c83"
      },
      "execution_count": 16,
      "outputs": [
        {
          "output_type": "display_data",
          "data": {
            "text/plain": [
              "<Figure size 640x480 with 1 Axes>"
            ],
            "image/png": "[encoded data removed]"
          },
          "metadata": {}
        }
      ]
    }
  ]
}
