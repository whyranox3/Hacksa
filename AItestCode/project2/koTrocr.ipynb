{
  "nbformat": 4,
  "nbformat_minor": 0,
  "metadata": {
    "colab": {
      "provenance": [],
      "authorship_tag": "ABX9TyMT54louwVabU2QDtO/tSvW",
      "include_colab_link": true
    },
    "kernelspec": {
      "name": "python3",
      "display_name": "Python 3"
    },
    "language_info": {
      "name": "python"
    }
  },
  "cells": [
    {
      "cell_type": "markdown",
      "metadata": {
        "id": "view-in-github",
        "colab_type": "text"
      },
      "source": [
        "<a href=\"https://colab.research.google.com/github/whyranox3/Hacksa/blob/master/project2.ipynb\" target=\"_parent\"><img src=\"https://colab.research.google.com/assets/colab-badge.svg\" alt=\"Open In Colab\"/></a>"
      ]
    },
    {
      "cell_type": "code",
      "execution_count": null,
      "metadata": {
        "id": "qm4Qx7Wp2iSw"
      },
      "outputs": [],
      "source": [
        "#토큰나이저 설치\n",
        "!pip install sentencepiece\n",
        "#데이터 직렬화 util 설치\n",
        "!pip install protobuf\n",
        "#Hugging face 의 trasnformer 설치\n",
        "!pip install transformers"
      ]
    },
    {
      "cell_type": "code",
      "source": [
        "# 예제 이미지 다운로드\n",
        "!rm -rf ocr_test_image\n",
        "!mkdir ocr_test_image\n",
        "!cd ocr_test_image && wget name1.png\n",
        "!cd ocr_test_image && wget name2.jpg\n",
        "!cd ocr_test_image && wget name3.pdf"
      ],
      "metadata": {
        "id": "tu1k7-8-3c_U"
      },
      "execution_count": null,
      "outputs": []
    },
    {
      "cell_type": "code",
      "source": [
        "from PIL import Image\n",
        "from transformers import TrOCRProcessor, VisionEncoderDecoderModel\n",
        "import matplotlib.pyplot as plt"
      ],
      "metadata": {
        "id": "ReAW9bvf3vW9"
      },
      "execution_count": null,
      "outputs": []
    },
    {
      "cell_type": "code",
      "source": [
        "# 이미지 로드\n",
        "image = Image.open(\"name1.png\").convert(\"RGB\")\n",
        "\n",
        "plt.figure(figsize=(10, 10))\n",
        "plt.imshow(image)\n",
        "plt.axis(\"on\")\n",
        "plt.show()\n",
        "\n",
        "# 모델 로드\n",
        "print(\"[INFO] Load pretrained TrOCRProcessor\")\n",
        "processor = TrOCRProcessor.from_pretrained(\"ddobokki/ko-trocr\")\n",
        "print(\"[INFO] Load pretrained VisionEncoderDecoderModel\")\n",
        "model = VisionEncoderDecoderModel.from_pretrained(\"ddobokki/ko-trocr\")\n",
        "\n",
        "# 추론하기\n",
        "# Preprocess\n",
        "pixel_values = processor(images=image, return_tensors=\"pt\").pixel_values\n",
        "# Inference\n",
        "token_ids = model.generate(pixel_values)\n",
        "# Postprocess\n",
        "text_from_image = processor.batch_decode(token_ids, skip_special_tokens=True)[0]\n",
        "\n",
        "print(\"텍스트:\", text_from_image)"
      ],
      "metadata": {
        "id": "4C_ht_Q85eoL"
      },
      "execution_count": null,
      "outputs": []
    },
    {
      "cell_type": "code",
      "source": [
        "# 이미지 로드\n",
        "image = Image.open(\"name2.jpg\").convert(\"RGB\")\n",
        "\n",
        "plt.figure(figsize=(10, 10))\n",
        "plt.imshow(image)\n",
        "plt.axis(\"on\")\n",
        "plt.show()\n",
        "\n",
        "# 모델 로드\n",
        "print(\"[INFO] Load pretrained TrOCRProcessor\")\n",
        "processor = TrOCRProcessor.from_pretrained(\"ddobokki/ko-trocr\")\n",
        "print(\"[INFO] Load pretrained VisionEncoderDecoderModel\")\n",
        "model = VisionEncoderDecoderModel.from_pretrained(\"ddobokki/ko-trocr\")\n",
        "\n",
        "# 추론하기\n",
        "# Preprocess\n",
        "pixel_values = processor(images=image, return_tensors=\"pt\").pixel_values\n",
        "# Inference\n",
        "token_ids = model.generate(pixel_values)\n",
        "# Postprocess\n",
        "text_from_image = processor.batch_decode(token_ids, skip_special_tokens=True)[0]\n",
        "\n",
        "print(\"텍스트:\", text_from_image)"
      ],
      "metadata": {
        "id": "KwKN-vUe6kk2"
      },
      "execution_count": null,
      "outputs": []
    }
  ]
}
