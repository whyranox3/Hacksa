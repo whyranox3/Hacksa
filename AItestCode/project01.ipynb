{
  "nbformat": 4,
  "nbformat_minor": 0,
  "metadata": {
    "colab": {
      "provenance": [],
      "include_colab_link": true
    },
    "kernelspec": {
      "name": "python3",
      "display_name": "Python 3"
    },
    "language_info": {
      "name": "python"
    }
  },
  "cells": [
    {
      "cell_type": "markdown",
      "metadata": {
        "id": "view-in-github",
        "colab_type": "text"
      },
      "source": [
        "<a href=\"https://colab.research.google.com/github/whyranox3/Hacksa/blob/master/AItestCode/project01.ipynb\" target=\"_parent\"><img src=\"https://colab.research.google.com/assets/colab-badge.svg\" alt=\"Open In Colab\"/></a>"
      ]
    },
    {
      "cell_type": "code",
      "execution_count": 72,
      "metadata": {
        "id": "EnaZb4sqFkQ8"
      },
      "outputs": [],
      "source": [
        "class MulLayer:\n",
        "  def __init__(self):\n",
        "    self.x=None\n",
        "    self.y=None\n",
        "  def forward(self,x,y):\n",
        "    self.x=x\n",
        "    self.y=y\n",
        "    out=x*y\n",
        "    return out\n",
        "  def backward(self,dout):\n",
        "    dx=dout*self.y\n",
        "    dy=dout*self.x\n",
        "    return dx,dy"
      ]
    },
    {
      "cell_type": "code",
      "source": [
        "# 변수 설정\n",
        "apple = 100\n",
        "apple_num = 2\n",
        "orange = 250\n",
        "orange_num = 4\n",
        "tax = 1.1\n",
        "\n",
        "mul_apple_layer = MulLayer()\n",
        "mul_orange_layer = MulLayer()\n",
        "add_layer = MulLayer()\n",
        "mul_tax_layer = MulLayer()"
      ],
      "metadata": {
        "id": "zVT_lPvhFtgp"
      },
      "execution_count": 73,
      "outputs": []
    },
    {
      "cell_type": "code",
      "source": [
        "# 순전파\n",
        "apple_price = mul_apple_layer.forward(apple, apple_num)\n",
        "orange_price = mul_orange_layer.forward(orange, orange_num)\n",
        "\n",
        "total_price = apple_price + orange_price\n",
        "\n",
        "final_price = mul_tax_layer.forward(total_price, tax)\n",
        "\n",
        "print(final_price)"
      ],
      "metadata": {
        "colab": {
          "base_uri": "https://localhost:8080/"
        },
        "id": "BP5NgYMnFwA7",
        "outputId": "1263d76c-f4a1-4ad7-df8c-c222b65e7093"
      },
      "execution_count": 74,
      "outputs": [
        {
          "output_type": "stream",
          "name": "stdout",
          "text": [
            "1320.0\n"
          ]
        }
      ]
    },
    {
      "cell_type": "code",
      "source": [
        "# 역전파\n",
        "dprice = 1\n",
        "dtotal_price, dtax = mul_tax_layer.backward(dprice)\n",
        "dapple_price, dorange_price = dtotal_price, dtotal_price\n",
        "\n",
        "dapple, dapple_num = mul_apple_layer.backward(dapple_price)\n",
        "dorange, dorange_num = mul_orange_layer.backward(dorange_price)\n",
        "\n",
        "print(dapple, dapple_num, dorange, dorange_num, dtax)"
      ],
      "metadata": {
        "colab": {
          "base_uri": "https://localhost:8080/"
        },
        "id": "LTPHUk92Hx2x",
        "outputId": "341b7b6e-c623-42fa-a703-d3387f32694c"
      },
      "execution_count": 75,
      "outputs": [
        {
          "output_type": "stream",
          "name": "stdout",
          "text": [
            "2.2 110.00000000000001 4.4 275.0 1200\n"
          ]
        }
      ]
    },
    {
      "cell_type": "code",
      "source": [
        "# 데이터 정리\n",
        "data = [\n",
        "    [\"Apple Price\", apple_price, dapple_price],\n",
        "    [\"Orange Price\", orange_price, dorange_price],\n",
        "    [\"Total Price\", total_price, dtotal_price],\n",
        "    [\"Tax\", tax, float(dtax)],\n",
        "    [\"Final Price\", final_price, \"-\"]\n",
        "]\n",
        "\n",
        "# 표 시각화\n",
        "print(\"순전파와 역전파 결과:\")\n",
        "print(\"{:<13} {:<10} {:<15}\".format(\"항목\", \"순전파 결과\", \"역전파 기울기\"))\n",
        "print(\"-\" * 45)\n",
        "for row in data:\n",
        "    formatted_row1 = \"{:.2f}\".format(float(row[1])) if isinstance(row[1], (int, float)) else row[1]\n",
        "    formatted_row2 = \"{:.2f}\".format(float(row[2])) if isinstance(row[2], (int, float)) else row[2]\n",
        "    print(\"{:<15} {:<15} {:<15}\".format(row[0], formatted_row1, formatted_row2))\n"
      ],
      "metadata": {
        "id": "gMhleBybDKlY",
        "outputId": "2f70999a-93eb-494b-c3cb-0b188c97cb53",
        "colab": {
          "base_uri": "https://localhost:8080/"
        }
      },
      "execution_count": 76,
      "outputs": [
        {
          "output_type": "stream",
          "name": "stdout",
          "text": [
            "순전파와 역전파 결과:\n",
            "항목            순전파 결과     역전파 기울기        \n",
            "---------------------------------------------\n",
            "Apple Price     200.00          1.10           \n",
            "Orange Price    1000.00         1.10           \n",
            "Total Price     1200.00         1.10           \n",
            "Tax             1.10            1200.00        \n",
            "Final Price     1320.00         -              \n"
          ]
        }
      ]
    }
  ]
}