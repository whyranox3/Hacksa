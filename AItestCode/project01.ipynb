{
  "nbformat": 4,
  "nbformat_minor": 0,
  "metadata": {
    "colab": {
      "provenance": [],
      "include_colab_link": true
    },
    "kernelspec": {
      "name": "python3",
      "display_name": "Python 3"
    },
    "language_info": {
      "name": "python"
    }
  },
  "cells": [
    {
      "cell_type": "markdown",
      "metadata": {
        "id": "view-in-github",
        "colab_type": "text"
      },
      "source": [
        "<a href=\"https://colab.research.google.com/github/whyranox3/Hacksa/blob/master/AItestCode/project01.ipynb\" target=\"_parent\"><img src=\"https://colab.research.google.com/assets/colab-badge.svg\" alt=\"Open In Colab\"/></a>"
      ]
    },
    {
      "cell_type": "code",
      "execution_count": 1,
      "metadata": {
        "id": "EnaZb4sqFkQ8"
      },
      "outputs": [],
      "source": [
        "class MulLayer:\n",
        "  def __init__(self):\n",
        "    self.x=None\n",
        "    self.y=None\n",
        "  def forward(self,x,y):\n",
        "    self.x=x\n",
        "    self.y=y\n",
        "    out=x*y\n",
        "    return out\n",
        "  def backward(self,dout):\n",
        "    dx=dout*self.y\n",
        "    dy=dout*self.x\n",
        "    return dx,dy"
      ]
    },
    {
      "cell_type": "code",
      "source": [
        "# 변수 설정\n",
        "apple = 100\n",
        "apple_num = 2\n",
        "orange = 250\n",
        "orange_num = 4\n",
        "tax = 1.0\n",
        "\n",
        "# 계층 생성\n",
        "mul_apple_layer = MulLayer()\n",
        "mul_orange_layer = MulLayer()\n",
        "add_layer = MulLayer()\n",
        "mul_tax_layer = MulLayer()"
      ],
      "metadata": {
        "id": "zVT_lPvhFtgp"
      },
      "execution_count": 2,
      "outputs": []
    },
    {
      "cell_type": "code",
      "source": [
        "# 순전파\n",
        "apple_price = mul_apple_layer.forward(apple, apple_num)\n",
        "orange_price = mul_orange_layer.forward(orange, orange_num)\n",
        "\n",
        "total_price = apple_price + orange_price\n",
        "\n",
        "final_price = mul_tax_layer.forward(total_price, tax)\n",
        "\n",
        "print(final_price)"
      ],
      "metadata": {
        "colab": {
          "base_uri": "https://localhost:8080/"
        },
        "id": "BP5NgYMnFwA7",
        "outputId": "9a9a3d38-c281-4da9-e7fa-b86c1e7dd847"
      },
      "execution_count": 3,
      "outputs": [
        {
          "output_type": "stream",
          "name": "stdout",
          "text": [
            "1200.0\n"
          ]
        }
      ]
    },
    {
      "cell_type": "code",
      "source": [
        "# 역전파\n",
        "dprice = 1\n",
        "dtotal_price, dtax = mul_tax_layer.backward(dprice)\n",
        "dapple_price, dorange_price = dtotal_price, dtotal_price  # 합산에서 각각 기울기 전달\n",
        "\n",
        "dapple, dapple_num = mul_apple_layer.backward(dapple_price)\n",
        "dorange, dorange_num = mul_orange_layer.backward(dorange_price)\n",
        "\n",
        "print(dapple, dapple_num, dorange, dorange_num, dtax)"
      ],
      "metadata": {
        "colab": {
          "base_uri": "https://localhost:8080/"
        },
        "id": "LTPHUk92Hx2x",
        "outputId": "db1be9ea-5a06-4dde-8c24-9d3b9ae71ac5"
      },
      "execution_count": 4,
      "outputs": [
        {
          "output_type": "stream",
          "name": "stdout",
          "text": [
            "2.0 100.0 4.0 250.0 1200\n"
          ]
        }
      ]
    }
  ]
}