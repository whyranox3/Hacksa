{
  "nbformat": 4,
  "nbformat_minor": 0,
  "metadata": {
    "colab": {
      "provenance": [],
      "authorship_tag": "ABX9TyO8OQZok7Z4NNzTRahNMjm4",
      "include_colab_link": true
    },
    "kernelspec": {
      "name": "python3",
      "display_name": "Python 3"
    },
    "language_info": {
      "name": "python"
    }
  },
  "cells": [
    {
      "cell_type": "markdown",
      "metadata": {
        "id": "view-in-github",
        "colab_type": "text"
      },
      "source": [
        "<a href=\"https://colab.research.google.com/github/whyranox3/Hacksa/blob/master/NewFityou.ipynb\" target=\"_parent\"><img src=\"https://colab.research.google.com/assets/colab-badge.svg\" alt=\"Open In Colab\"/></a>"
      ]
    },
    {
      "cell_type": "code",
      "execution_count": null,
      "metadata": {
        "id": "n6Bo1FBHcGgC"
      },
      "outputs": [],
      "source": [
        "# 필요한 라이브러리 불러오기\n",
        "from IPython.display import Image as IPyImage, display\n",
        "from PIL import Image\n",
        "import os\n",
        "import torch\n",
        "from torch.autograd import Variable\n",
        "import numpy as np\n",
        "from torchvision import transforms\n",
        "from google.colab import files"
      ]
    },
    {
      "cell_type": "code",
      "source": [
        "# 사용자 입력 받기\n",
        "height = int(input(\"키(cm)를 입력하세요: \"))\n",
        "weight = int(input(\"몸무게(kg)를 입력하세요: \"))"
      ],
      "metadata": {
        "id": "pHyr_fkGcQOj"
      },
      "execution_count": null,
      "outputs": []
    },
    {
      "cell_type": "code",
      "source": [
        "# 키 구간\n",
        "if 150 <= height < 160:\n",
        "    height_code = 'A'\n",
        "elif 160 <= height < 170:\n",
        "    height_code = 'B'\n",
        "elif 170 <= height < 180:\n",
        "    height_code = 'C'\n",
        "else:\n",
        "    height_code = 'C'  # 예외 처리"
      ],
      "metadata": {
        "id": "h4VqwBsCdX6G"
      },
      "execution_count": null,
      "outputs": []
    },
    {
      "cell_type": "code",
      "source": [
        "# BMI 계산\n",
        "height_m = height / 100\n",
        "bmi = weight / (height_m ** 2)"
      ],
      "metadata": {
        "id": "raUORtRhdX4L"
      },
      "execution_count": null,
      "outputs": []
    },
    {
      "cell_type": "code",
      "source": [
        "# 체중 구간\n",
        "if bmi < 18.5:\n",
        "    weight_code = 'under'\n",
        "elif bmi < 25:\n",
        "    weight_code = 'normal'\n",
        "else:\n",
        "    weight_code = 'over'"
      ],
      "metadata": {
        "id": "iA6rPc1cdX2L"
      },
      "execution_count": null,
      "outputs": []
    },
    {
      "cell_type": "code",
      "source": [
        "# 아바타 이미지 선택\n",
        "filename = f\"{height_code}_{weight_code}.jpg\"\n",
        "avatar_path = f\"/content/{filename}\"\n",
        "print(f\"체형: {filename}\")\n",
        "\n",
        "avatar = Image.open(avatar_path).convert(\"RGBA\")\n",
        "display(avatar)"
      ],
      "metadata": {
        "id": "6yST_b6XdX0T"
      },
      "execution_count": null,
      "outputs": []
    },
    {
      "cell_type": "code",
      "source": [
        "# U-2-Net 다운로드 및 준비\n",
        "!git clone https://github.com/xuebinqin/U-2-Net\n",
        "%cd U-2-Net\n",
        "!pip install gdown opencv-python pillow numpy\n",
        "\n",
        "%cd saved_models\n",
        "!gdown --id 1rbSTGKAE-MTxBYHd-51l2hMOQPT_7EPy\n",
        "%cd .."
      ],
      "metadata": {
        "collapsed": true,
        "id": "RY0TZwnmdXyH"
      },
      "execution_count": null,
      "outputs": []
    },
    {
      "cell_type": "code",
      "source": [
        "# 옷 저장 디렉토리 준비\n",
        "upper_dir = \"outputs/upper_clothes\"\n",
        "lower_dir = \"outputs/lower_clothes\"\n",
        "os.makedirs(upper_dir, exist_ok=True)\n",
        "os.makedirs(lower_dir, exist_ok=True)"
      ],
      "metadata": {
        "id": "wPnyUbUcdXvv"
      },
      "execution_count": null,
      "outputs": []
    },
    {
      "cell_type": "code",
      "source": [
        "# 상의 업로드\n",
        "print(\"상의 이미지를 업로드해주세요\")\n",
        "uploaded_upper = files.upload()\n",
        "upper_filename = \"shirt.jpg\"\n",
        "\n",
        "# 업로드된 상의 파일 경로 추출\n",
        "upper_input_path = None # 나중에 누끼 처리에 사용\n",
        "for upper_filename in uploaded_upper:\n",
        "    upper_input_path = os.path.join(upper_dir, upper_filename)\n",
        "    Image.open(upper_filename).save(upper_input_path)\n",
        "    print(f\"상의 저장 완료: {upper_input_path}\")"
      ],
      "metadata": {
        "id": "E-1NqxmJdXj2"
      },
      "execution_count": null,
      "outputs": []
    },
    {
      "cell_type": "code",
      "source": [
        "# 하의 업로드\n",
        "print(\"하의 이미지를 업로드해주세요\")\n",
        "uploaded_lower = files.upload()\n",
        "lower_filename = \"pants.jpg\"\n",
        "\n",
        "for fname in uploaded_lower:\n",
        "    lower_input_path = os.path.join(lower_dir, fname)\n",
        "    Image.open(fname).save(lower_input_path)\n",
        "    print(f\"하의 저장 완료: {lower_input_path}\")"
      ],
      "metadata": {
        "id": "SNrzvPtIdXh2"
      },
      "execution_count": null,
      "outputs": []
    },
    {
      "cell_type": "code",
      "source": [
        "# U-2-Net 관련 모듈\n",
        "from model import U2NETP\n",
        "from u2net_test import normPRED, save_output\n",
        "from data_loader import RescaleT, ToTensorLab, ToTensor\n",
        "\n",
        "# U-2-Net 누끼 처리 함수\n",
        "def process_with_u2net(input_path, output_dir, model_name='u2net'):\n",
        "  print(f\"[U-2-Net 처리 시작] {input_path}\")"
      ],
      "metadata": {
        "id": "M7H-SB_7egvp"
      },
      "execution_count": null,
      "outputs": []
    },
    {
      "cell_type": "code",
      "source": [
        "# 모델 로딩\n",
        "model_dir = 'saved_models/u2netp.pth'\n",
        "net = U2NETP(3, 1)\n",
        "net.load_state_dict(torch.load(model_dir, map_location='cpu'))\n",
        "net.eval()"
      ],
      "metadata": {
        "collapsed": true,
        "id": "Th5LNChgegyA"
      },
      "execution_count": null,
      "outputs": []
    },
    {
      "cell_type": "code",
      "source": [
        "#누끼 상/하의 통합 함수\n",
        "def remove_background(input_path: str, output_dir: str, net, label: str = \"image\") -> str:\n",
        "    \"\"\"\n",
        "    U-2-Net을 사용하여 배경 제거된 이미지를 생성하고 저장합니다.\n",
        "\n",
        "    Args:\n",
        "        input_path (str): 원본 이미지 경로\n",
        "        output_dir (str): 결과 이미지 저장 폴더\n",
        "        net: 학습된 U2NETP 모델 객체\n",
        "        label (str): 출력 파일명에 붙일 라벨 (\"image\" 대신 \"upper\", \"lower\" 등 사용 가능)\n",
        "\n",
        "    Returns:\n",
        "        str: 저장된 이미지 경로\n",
        "    \"\"\"\n",
        "    # 이미지 열기 및 전처리\n",
        "    image_np = np.array(Image.open(input_path).convert('RGB'))\n",
        "    transform = transforms.Compose([\n",
        "        RescaleT(320),\n",
        "        ToTensorLab(flag=0)\n",
        "    ])\n",
        "    sample = transform({\n",
        "        'imidx': np.array([0]),\n",
        "        'image': image_np,\n",
        "        'label': image_np\n",
        "    })\n",
        "    inputs_test = Variable(torch.unsqueeze(sample['image'], 0)).type(torch.FloatTensor)\n",
        "\n",
        "    # 예측 실행\n",
        "    with torch.no_grad():\n",
        "        d1, *_ = net(inputs_test)\n",
        "        pred = d1[:, 0, :, :]\n",
        "        pred = (pred - pred.min()) / (pred.max() - pred.min())\n",
        "        mask = (pred.detach().numpy()[0] * 255).astype('uint8')\n",
        "\n",
        "    # 알파 채널 적용\n",
        "    img_resized = Image.fromarray(image_np).resize((mask.shape[1], mask.shape[0]))\n",
        "    img_np = np.array(img_resized)\n",
        "    rgba = np.dstack((img_np, mask))\n",
        "\n",
        "    # 흰 배경 투명 처리\n",
        "    r, g, b, a = rgba[:, :, 0], rgba[:, :, 1], rgba[:, :, 2], rgba[:, :, 3]\n",
        "    white_areas = (r > 240) & (g > 240) & (b > 240)\n",
        "    rgba[white_areas, 3] = 0\n",
        "\n",
        "    # 저장\n",
        "    os.makedirs(output_dir, exist_ok=True)\n",
        "    filename = os.path.splitext(os.path.basename(input_path))[0]\n",
        "    out_file = os.path.join(output_dir, f\"seg_clean_{label}_{filename}.png\")\n",
        "    Image.fromarray(rgba).save(out_file)\n",
        "\n",
        "    print(f\"[✅ 누끼 이미지 저장 완료] → {out_file}\")\n",
        "    return out_file\n"
      ],
      "metadata": {
        "id": "zki9ToU90Ccg"
      },
      "execution_count": null,
      "outputs": []
    },
    {
      "cell_type": "code",
      "source": [
        "# 모델 로딩\n",
        "from model import U2NETP\n",
        "net = U2NETP(3, 1)\n",
        "net.load_state_dict(torch.load(\"saved_models/u2netp.pth\", map_location='cpu'))\n",
        "net.eval()\n",
        "\n",
        "# 상의 누끼\n",
        "upper_output = \"outputs/upper_clothes\"\n",
        "remove_background(upper_input_path, upper_output, net, label=\"upper\")\n",
        "\n",
        "# 하의 누끼\n",
        "lower_output = \"outputs/lower_clothes\"\n",
        "remove_background(lower_input_path, lower_output, net, label=\"lower\")\n"
      ],
      "metadata": {
        "id": "hA8k48mf0Nq0"
      },
      "execution_count": null,
      "outputs": []
    },
    {
      "cell_type": "code",
      "source": [
        "# 세그멘테이션 함수 정의\n",
        "def generate_mask(image_path, output_dir, label=\"upper\"):\n",
        "    # 출력 디렉토리 준비\n",
        "    os.makedirs(output_dir, exist_ok=True)\n",
        "\n",
        "    # 이미지 로드 및 전처리\n",
        "    image_np = np.array(Image.open(image_path).convert('RGB'))\n",
        "    transform = transforms.Compose([\n",
        "        RescaleT(320),\n",
        "        ToTensorLab(flag=0)\n",
        "    ])\n",
        "    sample = transform({'imidx': np.array([0]), 'image': image_np, 'label': image_np})\n",
        "    image_tensor = Variable(torch.unsqueeze(sample['image'], 0)).type(torch.FloatTensor)\n",
        "\n",
        "    # 모델 추론\n",
        "    with torch.no_grad():\n",
        "        d1, *_ = net(image_tensor)\n",
        "        pred = d1[:, 0, :, :]\n",
        "        pred = (pred - pred.min()) / (pred.max() - pred.min())  # 정규화\n",
        "\n",
        "    # 마스크 저장 (흑백 PNG)\n",
        "    mask_np = (pred[0].cpu().numpy() * 255).astype(np.uint8)\n",
        "    mask_img = Image.fromarray(mask_np).resize(Image.open(image_path).size)\n",
        "\n",
        "    # 저장 경로 지정\n",
        "    base_name = os.path.splitext(os.path.basename(image_path))[0]\n",
        "    save_path = os.path.join(output_dir, f\"{base_name}_{label}_mask.png\")\n",
        "    mask_img.save(save_path)\n",
        "\n",
        "    print(f\"✅ 마스크 저장 완료: {save_path}\")\n",
        "    return save_path"
      ],
      "metadata": {
        "id": "PM4wU1KUeg3y"
      },
      "execution_count": null,
      "outputs": []
    },
    {
      "cell_type": "code",
      "source": [
        "# 🔻 상의 마스크 생성\n",
        "generate_mask(\n",
        "    image_path=avatar_path,\n",
        "    output_dir=\"outputs/avatar_upper_mask\",\n",
        "    label=\"upper\"\n",
        ")\n",
        "\n",
        "# 🔻 하의 마스크 생성\n",
        "generate_mask(\n",
        "    image_path=avatar_path,\n",
        "    output_dir=\"outputs/avatar_lower_mask\",\n",
        "    label=\"lower\"\n",
        ")\n",
        "#마스크 dir 새로 생성됨"
      ],
      "metadata": {
        "id": "iQP1W018eg5w"
      },
      "execution_count": null,
      "outputs": []
    },
    {
      "cell_type": "code",
      "source": [
        "#의상 합성 함수\n",
        "def apply_clothes_to_avatar(avatar_path, clothing_rgba_path, mask_path, output_path):\n",
        "    \"\"\"\n",
        "    아바타에 의상을 입히는 함수 (마스크 기준으로 합성)\n",
        "    \"\"\"\n",
        "\n",
        "    # 아바타 이미지 (RGB), 옷 이미지 (RGBA), 마스크 이미지 (L)\n",
        "    avatar = Image.open(avatar_path).convert(\"RGBA\")\n",
        "    clothes = Image.open(clothing_rgba_path).convert(\"RGBA\")\n",
        "    mask = Image.open(mask_path).convert(\"L\")  # 흑백 마스크\n",
        "\n",
        "    # 모두 같은 크기로 리사이즈\n",
        "    clothes = clothes.resize(avatar.size)\n",
        "    mask = mask.resize(avatar.size)\n",
        "\n",
        "    # 마스크를 통해 옷 이미지 적용할 영역만 남기기\n",
        "    clothes_np = np.array(clothes)\n",
        "    mask_np = np.array(mask)\n",
        "\n",
        "    # 마스크가 흰색(255)인 부분만 의상을 살리고 나머지는 투명\n",
        "    alpha_mask = (mask_np > 128).astype(np.uint8)  # True/False → 1/0\n",
        "    for c in range(3):  # RGB 채널\n",
        "        clothes_np[:, :, c] = clothes_np[:, :, c] * alpha_mask\n",
        "    clothes_np[:, :, 3] = clothes_np[:, :, 3] * alpha_mask  # 알파 채널도 마찬가지\n",
        "\n",
        "    clothes_masked = Image.fromarray(clothes_np)\n",
        "\n",
        "    # 아바타와 의상 합성\n",
        "    combined = Image.alpha_composite(avatar, clothes_masked)\n",
        "\n",
        "    # 저장\n",
        "    os.makedirs(os.path.dirname(output_path), exist_ok=True)\n",
        "    combined.save(output_path)\n",
        "    print(f\"🎉 의상 합성 완료: {output_path}\")"
      ],
      "metadata": {
        "id": "SB1wgjPNIPNl"
      },
      "execution_count": null,
      "outputs": []
    },
    {
      "cell_type": "code",
      "source": [
        "#의상 합성 함수2...\n",
        "def get_filename_without_ext(path):\n",
        "    return os.path.splitext(os.path.basename(path))[0]\n",
        "\n",
        "def auto_apply_clothes(\n",
        "    avatar_path,\n",
        "    upper_rgba_path,\n",
        "    lower_rgba_path,\n",
        "    upper_mask_dir=\"U-2-Net/outputs/avatar_upper_mask\",\n",
        "    lower_mask_dir=\"U-2-Net/outputs/avatar_lower_mask\",\n",
        "    result_dir=\"results\"\n",
        "):\n",
        "    os.makedirs(result_dir, exist_ok=True)\n",
        "\n",
        "    avatar_name = get_filename_without_ext(avatar_path)\n",
        "\n",
        "    # ✅ 상의 마스크 경로\n",
        "    upper_mask_path = f\"outputs/avatar_upper_mask/{avatar_name}_upper_mask.png\"\n",
        "    if not os.path.exists(upper_mask_path):\n",
        "        print(f\"[❌오류] 상의 마스크 없음: {upper_mask_path}\")\n",
        "        return\n",
        "\n",
        "    # ✅ 하의 마스크 경로\n",
        "    lower_mask_path = f\"outputs/avatar_lower_mask/{avatar_name}_lower_mask.png\"\n",
        "    if not os.path.exists(lower_mask_path):\n",
        "        print(f\"[❌오류] 하의 마스크 없음: {lower_mask_path}\")\n",
        "        return\n",
        "\n",
        "    # ✅ 상의 합성\n",
        "    upper_output_path = os.path.join(result_dir, f\"{avatar_name}_with_upper.png\")\n",
        "    apply_clothes_to_avatar(\n",
        "        avatar_path=avatar_path,\n",
        "        clothing_rgba_path=upper_rgba_path,\n",
        "        mask_path=upper_mask_path,\n",
        "        output_path=upper_output_path\n",
        "    )\n",
        "    print(f\"[✅ 상의 합성 완료] → {upper_output_path}\")\n",
        "\n",
        "    # ✅ 하의 합성\n",
        "    final_output_path = os.path.join(result_dir, f\"{avatar_name}_with_full_outfit.png\")\n",
        "    apply_clothes_to_avatar(\n",
        "        avatar_path=upper_output_path,\n",
        "        clothing_rgba_path=lower_rgba_path,\n",
        "        mask_path=lower_mask_path,\n",
        "        output_path=final_output_path\n",
        "    )\n",
        "    print(f\"[✅ 하의 합성 완료] → {final_output_path}\")\n",
        "\n",
        "    # ✅ 최종 결과 이미지 출력\n",
        "    try:\n",
        "        result_img = Image.open(final_output_path)\n",
        "        display(result_img)\n",
        "    except Exception as e:\n",
        "        print(f\"[❌오류] 최종 이미지 표시 실패: {e}\")\n"
      ],
      "metadata": {
        "id": "OyPl1htIeg7b"
      },
      "execution_count": null,
      "outputs": []
    },
    {
      "cell_type": "code",
      "source": [
        "auto_apply_clothes(\n",
        "    avatar_path = avatar_path,\n",
        "    upper_rgba_path=\"outputs/upper_clothes/seg_clean_shirt.png\",\n",
        "    lower_rgba_path=\"outputs/lower_clothes/seg_clean_pants.png\"\n",
        ")"
      ],
      "metadata": {
        "id": "3eIaNT2U7k8F"
      },
      "execution_count": null,
      "outputs": []
    },
    {
      "cell_type": "code",
      "source": [],
      "metadata": {
        "id": "J88jNNU47jnW"
      },
      "execution_count": null,
      "outputs": []
    },
    {
      "cell_type": "code",
      "source": [],
      "metadata": {
        "id": "AnAZYWqt7k5l"
      },
      "execution_count": null,
      "outputs": []
    },
    {
      "cell_type": "code",
      "source": [],
      "metadata": {
        "id": "ZR1j74Ka7k3F"
      },
      "execution_count": null,
      "outputs": []
    },
    {
      "cell_type": "code",
      "source": [],
      "metadata": {
        "id": "atcUH5ND7k09"
      },
      "execution_count": null,
      "outputs": []
    }
  ]
}
