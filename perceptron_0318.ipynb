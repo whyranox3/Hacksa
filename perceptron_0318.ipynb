{
  "nbformat": 4,
  "nbformat_minor": 0,
  "metadata": {
    "colab": {
      "provenance": [],
      "authorship_tag": "ABX9TyOG66ToOYgXsDn9Ni2PNPoI",
      "include_colab_link": true
    },
    "kernelspec": {
      "name": "python3",
      "display_name": "Python 3"
    },
    "language_info": {
      "name": "python"
    }
  },
  "cells": [
    {
      "cell_type": "markdown",
      "metadata": {
        "id": "view-in-github",
        "colab_type": "text"
      },
      "source": [
        "<a href=\"https://colab.research.google.com/github/whyranox3/Hacksa/blob/master/perceptron_0318.ipynb\" target=\"_parent\"><img src=\"https://colab.research.google.com/assets/colab-badge.svg\" alt=\"Open In Colab\"/></a>"
      ]
    },
    {
      "cell_type": "code",
      "execution_count": 5,
      "metadata": {
        "id": "KYTyz31k631J"
      },
      "outputs": [],
      "source": [
        "import numpy as np\n",
        "# 계단 활성화 함수\n",
        "def step_function(x):\n",
        "  return 1 if x >= 0 else 0\n",
        "# 퍼셉트론 모델\n",
        "class Perceptron:\n",
        "  def __init__(self, input_size, lr=0.1, epochs=10):\n",
        "    self.weights = np.zeros(input_size)\n",
        "    self.bias = 0\n",
        "    self.lr = lr\n",
        "    self.epochs = epochs\n",
        "  def predict(self, x):\n",
        "    linear_output = np.dot(x, self.weights) + self.bias\n",
        "    return step_function(linear_output)\n",
        "  def train(self, X, y):\n",
        "    for epoch in range(self.epochs):\n",
        "      for i in range(len(X)):\n",
        "        y_pred = self.predict(X[i])\n",
        "        error = y[i] - y_pred\n",
        "        self.weights += self.lr * error * X[i]\n",
        "        self.bias += self.lr * error\n",
        "    print(f\"Epoch {epoch+1}: Weights={self.weights}, Bias={self.bias}, Error={error}\")"
      ]
    },
    {
      "cell_type": "code",
      "source": [
        "# And gate 입출력\n",
        "X=np.array([[0,0],[0,1],[1,0],[1,1]])\n",
        "y=np.array([0,0,0,1])"
      ],
      "metadata": {
        "id": "2lVI1vYj-ibD"
      },
      "execution_count": 24,
      "outputs": []
    },
    {
      "cell_type": "code",
      "source": [
        "# 퍼셉트론 모델 학습\n",
        "perceptron=Perceptron(input_size=2, lr=0.1, epochs=10)\n",
        "perceptron.train(X,y)"
      ],
      "metadata": {
        "colab": {
          "base_uri": "https://localhost:8080/"
        },
        "id": "Izh0iJke-it8",
        "outputId": "e4dd12b8-bdf7-4fa3-92a3-ddd2a10ad76e"
      },
      "execution_count": 30,
      "outputs": [
        {
          "output_type": "stream",
          "name": "stdout",
          "text": [
            "Epoch 10: Weights=[0.2 0.1], Bias=-0.20000000000000004, Error=0\n"
          ]
        }
      ]
    },
    {
      "cell_type": "code",
      "source": [
        "print(\"\\n[result]\")\n",
        "print(f\"Weight: {perceptron.weights}, Bias: {perceptron.bias}\")\n",
        "\n",
        "# result\n",
        "print(\"\\n[test]\")\n",
        "for input in X:\n",
        "  print(f\"input: {input}, output: {perceptron.predict(input)}\")"
      ],
      "metadata": {
        "colab": {
          "base_uri": "https://localhost:8080/"
        },
        "id": "xvbpve4w-jDk",
        "outputId": "5159aad3-ca6b-45d4-d68c-8f63cdac77c3"
      },
      "execution_count": 32,
      "outputs": [
        {
          "output_type": "stream",
          "name": "stdout",
          "text": [
            "\n",
            "[result]\n",
            "Weight: [0.2 0.1], Bias: -0.20000000000000004\n",
            "\n",
            "[test]\n",
            "input: [0 0], output: 0\n",
            "input: [0 1], output: 0\n",
            "input: [1 0], output: 0\n",
            "input: [1 1], output: 1\n"
          ]
        }
      ]
    },
    {
      "cell_type": "code",
      "source": [
        "X=np.array([[0,0],[0,1],[1,0],[1,1]])\n",
        "# NAND 정답\n",
        "y_nand=np.array([1,1,1,0])\n",
        "# AND 정답\n",
        "y_and=np.array([0,0,0,1])\n",
        "# OR 정답\n",
        "y_or=np.array([0,1,1,1])\n",
        "# XOR 정답\n",
        "y_xor=np.array([0,1,1,0])"
      ],
      "metadata": {
        "id": "EGdN6Omp7Frc"
      },
      "execution_count": 9,
      "outputs": []
    },
    {
      "cell_type": "code",
      "source": [
        "#NAND\n",
        "perception_nand=Perceptron(input_size=2, lr=0.1, epochs=10)\n",
        "perception_nand.train(X,y_nand)\n",
        "weights_nand=perception_nand.weights\n",
        "bias_nand=perception_nand.bias"
      ],
      "metadata": {
        "colab": {
          "base_uri": "https://localhost:8080/"
        },
        "id": "urE0PqgG7XN0",
        "outputId": "82e2de8f-2ffc-46a4-b30a-80556ee327ad"
      },
      "execution_count": 11,
      "outputs": [
        {
          "output_type": "stream",
          "name": "stdout",
          "text": [
            "Epoch 10: Weights=[-0.2 -0.1], Bias=0.2, Error=0\n"
          ]
        }
      ]
    },
    {
      "cell_type": "code",
      "source": [
        "#AND\n",
        "perception_and=Perceptron(input_size=2, lr=0.1, epochs=10)\n",
        "perception_and.train(X,y_and)\n",
        "weights_and=perception_nand.weights\n",
        "bias_and=perception_nand.bias"
      ],
      "metadata": {
        "colab": {
          "base_uri": "https://localhost:8080/"
        },
        "id": "caN9dCi48vnl",
        "outputId": "3bbd1d20-45ca-4a9a-c06b-747818afe749"
      },
      "execution_count": 12,
      "outputs": [
        {
          "output_type": "stream",
          "name": "stdout",
          "text": [
            "Epoch 10: Weights=[0.2 0.1], Bias=-0.20000000000000004, Error=0\n"
          ]
        }
      ]
    },
    {
      "cell_type": "code",
      "source": [
        "#OR\n",
        "perception_or=Perceptron(input_size=2, lr=0.1, epochs=10)\n",
        "perception_or.train(X,y_or)\n",
        "weights_or=perception_nand.weights\n",
        "bias_or=perception_nand.bias"
      ],
      "metadata": {
        "colab": {
          "base_uri": "https://localhost:8080/"
        },
        "id": "2zZmziTO85Ac",
        "outputId": "7f73e0cb-9226-4fd0-b1a8-2cc1536b5867"
      },
      "execution_count": 13,
      "outputs": [
        {
          "output_type": "stream",
          "name": "stdout",
          "text": [
            "Epoch 10: Weights=[0.1 0.1], Bias=-0.1, Error=0\n"
          ]
        }
      ]
    },
    {
      "cell_type": "code",
      "source": [
        "# XOR\n",
        "def XOR(x):\n",
        "  nand_out=step_function(np.dot(x,weights_nand)+bias_nand)\n",
        "  or_out=step_function(np.dot(x,weights_or)+bias_or)\n",
        "  and_input=np.array([nand_output, or_output])\n",
        "\n",
        "  xor_output=step_function(np.dot(and_input,weights_and)+bias_and)\n",
        "  return xor_output"
      ],
      "metadata": {
        "id": "7cWi1deJ9Hp0"
      },
      "execution_count": 15,
      "outputs": []
    },
    {
      "cell_type": "code",
      "source": [
        "for input in X:\n",
        "  print(f\"input: {and_input}, output: {perceptron.predict(and_input)}\")"
      ],
      "metadata": {
        "colab": {
          "base_uri": "https://localhost:8080/"
        },
        "id": "4BrgL2rk98FU",
        "outputId": "b8b6246d-8b3c-4843-b78c-dc20bc276d3b"
      },
      "execution_count": 34,
      "outputs": [
        {
          "output_type": "stream",
          "name": "stdout",
          "text": [
            "input: [0 0], output: 0\n",
            "input: [0 0], output: 0\n",
            "input: [0 0], output: 0\n",
            "input: [0 0], output: 0\n"
          ]
        }
      ]
    }
  ]
}